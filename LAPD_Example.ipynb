{
 "cells": [
  {
   "cell_type": "markdown",
   "id": "ae6950a9-91fd-46d4-a5b8-e81845fb8de7",
   "metadata": {},
   "source": [
    "# Analysing LAPD Output generated through Plasma VLab\n",
    "\n",
    "You have two options\n",
    "1. Use the provided sample data path\n",
    "OR\n",
    "2. Provide the path to your own experiment data. This path can be obtained with your own executed experiments in Plasma VLab"
   ]
  },
  {
   "cell_type": "code",
   "execution_count": null,
   "id": "537949d0-6ba5-4cc3-8e25-9b1e321fc219",
   "metadata": {},
   "outputs": [],
   "source": [
    "%pip install -qU \"airavata-python-sdk[notebook]\"\n",
    "import airavata_jupyter_magic\n",
    "\n",
    "%authenticate\n",
    "\n",
    "# PLEASE NOTE: At a given time, ONLY run a single analysis in one of the available clusters: Anvil OR Jetstream. \n",
    "# Make sure the resoruce you want to execute on is enabled.\n",
    "\n",
    "# Anvil\n",
    "#%request_runtime test_cpu --file=cybershuttle.yml --group=Gkeyll --walltime=60 --use=AnvilCPU:shared\n",
    "\n",
    "# Jetstream\n",
    "%request_runtime test_cpu --file=cybershuttle.yml --group=Gkeyll --walltime=60 --use=Gkeyll:cloud\n",
    "\n",
    "%wait_for_runtime test_cpu --live\n",
    "%switch_runtime test_cpu"
   ]
  },
  {
   "cell_type": "code",
   "execution_count": null,
   "id": "a98c2215-0be7-4a29-9531-c2b225305d79",
   "metadata": {},
   "outputs": [],
   "source": [
    "#Provide your own LAPD output path from https://vlab.plasmascience.scigap.org/ experiment. If not, use the provided Example path\n",
    "\n",
    "#Example Path\n",
    "data_path = \"/export/vlab_workdirs/LDAP-Sample/\"\n",
    "\n",
    "\n",
    "#Your LAPD Path (Comment the above Example data path. Add your Path here and uncomment.)\n",
    "#data_path = \"/export/vlab_workdirs/PROCESS_79949f46-eb69-4425-8cd3-e2cd95b07c37/\""
   ]
  },
  {
   "cell_type": "code",
   "execution_count": null,
   "id": "593f84db-c611-42ba-a238-74f6c2ee181a",
   "metadata": {},
   "outputs": [],
   "source": [
    "import matplotlib\n",
    "import matplotlib.pyplot as plt\n",
    "import postgkyl as pg\n",
    "import numpy as np\n",
    "import shutil\n",
    "\n",
    "SMALL_SIZE = 16\n",
    "MEDIUM_SIZE = 18\n",
    "BIGGER_SIZE = 22\n",
    "plt.rc('font', size=MEDIUM_SIZE)          # controls default text sizes\n",
    "plt.rc('axes', titlesize=MEDIUM_SIZE)     # fontsize of the axes title\n",
    "plt.rc('axes', labelsize=BIGGER_SIZE)    # fontsize of the x and y labels\n",
    "plt.rc('xtick', labelsize=MEDIUM_SIZE)    # fontsize of the tick labels\n",
    "plt.rc('ytick', labelsize=MEDIUM_SIZE)    # fontsize of the tick labels\n",
    "plt.rc('legend', fontsize=MEDIUM_SIZE)    # legend fontsize\n",
    "plt.rc('figure', titlesize=MEDIUM_SIZE)  # fontsize of the figure title\n",
    "plt.rcParams[\"font.weight\"] = \"bold\"\n",
    "plt.rcParams[\"axes.labelweight\"] = \"bold\"\n",
    "\n",
    "#Note: This cell may execute longer if the job is not yet active in the remote cluster. Please pause till the status =READY message appears."
   ]
  },
  {
   "cell_type": "code",
   "execution_count": null,
   "id": "97ea1806-2494-4950-8a94-2ebbc8bfc52c",
   "metadata": {},
   "outputs": [],
   "source": [
    "# Physical constants and derived parameters\n",
    "gas_gamma = 5.0 / 3.0 # Adiabatic index.\n",
    "cFac = 1000 # Scales the speed of light\n",
    "epsilon0 = 8.854e-12*cFac # Permittivity of free space.\n",
    "mu0 =  1.257e-6 # Permeability of free space.\n",
    "light_speed = 1.0/np.sqrt(epsilon0*mu0) # Speed of light. \n",
    "eV = 1.6e-19 # electron Volt for charge and temperature\n",
    "mass_proton = 1.67e-27\n",
    "mass_ion = 4.*mass_proton # Helium mass.\n",
    "charge_ion = 1.0*eV # Ion charge.\n",
    "mass_elc = mass_ion / 100 # Reduced electron mass.\n",
    "charge_elc = -1.0*eV # Electron charge.\n",
    "Te_over_Ti = 5.0 # Electron temperature / ion temperature.\n",
    "n0 = 7.e18 # Number density.\n",
    "wpi = np.sqrt(charge_ion**2 * n0 / (epsilon0 * mass_ion)) # Ion plasma frequency. \n",
    "wpe = np.sqrt(charge_ion**2 * n0 / (epsilon0 * mass_elc)) # Electron plasma frequency. \n",
    "di = light_speed/wpi # Ion inertial length. \n",
    "de = light_speed/wpe # Electron inertial length. \n",
    "B0 = 0.08 # Reference magnetic field strength at z = 0.\n",
    "omega_ci0 = charge_ion * B0 / mass_ion # Reference ion cyclotron frequency. \n",
    "vA0p = B0/np.sqrt(mu0*n0*mass_ion) # Reference Alfven speed. "
   ]
  },
  {
   "cell_type": "markdown",
   "id": "03d6f4cc-e7a6-43fe-9cf2-25efb0b99c46",
   "metadata": {
    "collapsed": true,
    "jupyter": {
     "outputs_hidden": true
    }
   },
   "source": [
    "### $\\texttt{Gkeyll}$ and $\\texttt{postgkyl}$\n",
    "\n",
    "The code we will be using is [$\\texttt{Gkeyll}$](https://gkeyll.readthedocs.io/), a general purpose simulation framework for a variety of fluid and plasma systems. You can download and install $\\texttt{Gkeyll}$ yourself by following the installation instructions on our [Github repo](https://github.com/ammarhakim/gkylzero). \n",
    "\n",
    "To read the data, we will utilize the post-processing suite we have developed alongside $\\texttt{Gkeyll}$, [$\\texttt{postgkyl}$](https://github.com/ammarhakim/postgkyl), which you can also download and install via the instructions on Github. The cluster we will be utilizing for analyzing the results of our simulations already has installations of $\\texttt{Gkeyll}$ and $\\texttt{postgkyl}$; we already imported postgkyl in this Jupyter Notebook, so if we did not have $\\texttt{postgkyl}$, that import command would not have worked! \n",
    "\n",
    "The output of $\\texttt{Gkeyll}$ simulations can be manipulated in one of two ways: through the GData class, which retains useful metadata from the simulation to subsequent operations, or by directly fetching the raw values and grid and storing them in Numpy arrays for our subsequent manipulations."
   ]
  },
  {
   "cell_type": "code",
   "execution_count": null,
   "id": "4d8b6a7d-759f-4f24-9c93-efba62b67002",
   "metadata": {},
   "outputs": [],
   "source": [
    "def read_data(filebase, data_type, frame, zs=[None]*6):\n",
    "    raw_data = pg.data.GData(\"%s-%s_%d.gkyl\" % (filebase, data_type, frame), z0=zs[0], z1=zs[1], z2=zs[2], z3=zs[3], z4=zs[4], z5=zs[5]) \n",
    "    data = raw_data.get_values()  \n",
    "    time = raw_data.ctx['time']\n",
    "    # Same grid for all electrons, ions, and EM fields\n",
    "    coords = raw_data.get_grid()\n",
    "    # Center the grid values\n",
    "    for d in range(len(coords)):\n",
    "        coords[d] = 0.5*(coords[d][:-1] + coords[d][1:])\n",
    "\n",
    "    return coords, data, time\n",
    "\n",
    "def data_range(coords, lowerLimits, upperLimits):\n",
    "    dims = len(coords)\n",
    "    zs = [None]*6\n",
    "    for d in range(dims):\n",
    "        idxs = np.searchsorted(coords[d], [lowerLimits[d], upperLimits[d]])\n",
    "        if idxs[0] == idxs[1]: \n",
    "            zs[d] = '{0}'.format(idxs[0])\n",
    "        else:\n",
    "            zs[d] = '{0}:{1}'.format(idxs[0], idxs[1])\n",
    "    return zs"
   ]
  },
  {
   "cell_type": "code",
   "execution_count": null,
   "id": "fa193291-42bd-4a40-ac33-3b9c63aed2fa",
   "metadata": {},
   "outputs": [],
   "source": [
    "filebase = data_path + \"LAPD3D5Mg0\" #Filename base\n",
    "startFrame = 0; endFrame = 150; skipFrames = 1 #Start and end frames to be read. skipFrames defines the stride\n",
    "lowerLimits = [0.,  0., 0.2] #lowerLimits of data to read in units defined in input file\n",
    "upperLimits = [0.,  0.,  1.e6] #upperLimits of data"
   ]
  },
  {
   "cell_type": "markdown",
   "id": "30a18540-2bfd-4fee-bbc3-9518f1572e87",
   "metadata": {},
   "source": [
    "Here, we will only be looking at EM field data; however, you can read in moment data by changing data_type to elc or ion, where the names can be determined from the output filenames. The final index in the data array is the component of the EM field or moment data. A glossary of the components can be found below\n",
    "\n",
    "field\n",
    "\n",
    "0 - 2 = Ex, Ey, Ez\n",
    "\n",
    "3 - 5 = Bx, By, Bz\n",
    "\n",
    "6, 7 = auxilliary fields\n",
    "\n",
    "moment data\n",
    "\n",
    "0 = rho = mass*density\n",
    "\n",
    "1 - 3 = rho*u_i = momentum density\n",
    "\n",
    "4 = energy =  density * temperature / (gas_gamma - 1) + 0.5 * rho (ux^2 + uy^2 + uz^2)"
   ]
  },
  {
   "cell_type": "code",
   "execution_count": null,
   "id": "2bebfdd7-deea-421c-a341-d0d2357f39ca",
   "metadata": {},
   "outputs": [],
   "source": [
    "data_type = \"field\" #field for EM fields, elc for electron moments, ion for ion moments. Follows naming convention of output files.\n",
    "coords, data, time = read_data(filebase, data_type, startFrame) #Initial read needed for data range selection\n",
    "zs = data_range(coords, lowerLimits, upperLimits) #Setup range of data to read"
   ]
  },
  {
   "cell_type": "code",
   "execution_count": null,
   "id": "aa42b2e8-6d9f-4178-8e7d-18eaf968ab33",
   "metadata": {},
   "outputs": [],
   "source": [
    "#Read in all selected EM field data\n",
    "\n",
    "frames = np.arange(startFrame, endFrame+1, skipFrames); nt=len(frames)\n",
    "timeseries = []\n",
    "time = np.zeros(nt)\n",
    "for it in range(nt):\n",
    "    coords, data, time[it] = read_data(filebase, data_type, frames[it], zs)\n",
    "    timeseries.append(data)\n",
    "timeseries = np.array(timeseries) #Array shape (time, x, y, z, component)"
   ]
  },
  {
   "cell_type": "code",
   "execution_count": null,
   "id": "283c034e-ed0e-46f4-96c4-da42b5cbd9cb",
   "metadata": {},
   "outputs": [],
   "source": [
    "Ex = timeseries[...,0]\n",
    "Ey = timeseries[...,1]\n",
    "Bx = timeseries[...,3]\n",
    "By = timeseries[...,4]\n",
    "z = coords[2]\n",
    "\n",
    "maxLim = np.max(abs(By))\n",
    "plt.figure()\n",
    "plt.pcolormesh(time*1e6, z, By[:,0,0,:].transpose(), cmap='bwr', shading='gouraud')\n",
    "plt.clim(-maxLim, maxLim)\n",
    "plt.colorbar()\n",
    "plt.xlabel(r'$t(\\mu s)$')\n",
    "plt.ylabel(r'$z(m)$')\n",
    "plt.title(r'$B_y(x=0,y=0,z,t)(T)$')\n",
    "plt.show()\n"
   ]
  },
  {
   "cell_type": "code",
   "execution_count": null,
   "id": "9d552703-2c15-446c-9af7-419fcba14298",
   "metadata": {},
   "outputs": [],
   "source": [
    "#Compute and plot axial Poynting flux\n",
    "Sz = (Ex*By - Ey*Bx) / mu0 \n",
    "iz = np.searchsorted(z, 3.) #Find index for z=3m\n",
    "\n",
    "plt.figure()\n",
    "plt.plot(time*1e6, Sz[:,0,0,iz].transpose(),'k', linewidth=2)\n",
    "plt.plot(time*1e6, np.zeros(nt), 'k')\n",
    "plt.xlabel(r'$t(\\mu s)$')\n",
    "plt.ylabel(r'$S_z(W/m^2)$')\n",
    "plt.title(r'$S_z(x=0,y=0,z=3m,t)$')\n",
    "plt.autoscale(enable=True, axis='both', tight=True)\n",
    "plt.show()"
   ]
  },
  {
   "cell_type": "code",
   "execution_count": null,
   "id": "e637f08e-8b8f-42aa-9635-30e8c4c0757f",
   "metadata": {},
   "outputs": [],
   "source": [
    "%stop_runtime test_cpu\n",
    "%switch_runtime local"
   ]
  }
 ],
 "metadata": {
  "kernelspec": {
   "display_name": "Python 3 (ipykernel)",
   "language": "python",
   "name": "python3"
  },
  "language_info": {
   "codemirror_mode": {
    "name": "ipython",
    "version": 3
   },
   "file_extension": ".py",
   "mimetype": "text/x-python",
   "name": "python",
   "nbconvert_exporter": "python",
   "pygments_lexer": "ipython3",
   "version": "3.11.6"
  }
 },
 "nbformat": 4,
 "nbformat_minor": 5
}
