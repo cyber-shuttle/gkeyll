{
 "cells": [
  {
   "cell_type": "code",
   "execution_count": 1,
   "id": "913532cb-c620-4459-bf28-84f8e66333ea",
   "metadata": {},
   "outputs": [
    {
     "name": "stdout",
     "output_type": "stream",
     "text": [
      "\u001b[33m  DEPRECATION: Building 'pysftp' using the legacy setup.py bdist_wheel mechanism, which will be removed in a future version. pip 25.3 will enforce this behaviour change. A possible replacement is to use the standardized build interface by setting the `--use-pep517` option, (possibly combined with `--no-build-isolation`), or adding a `pyproject.toml` file to the source tree of 'pysftp'. Discussion can be found at https://github.com/pypa/pip/issues/6334\u001b[0m\u001b[33m\n",
      "\u001b[0m\u001b[33m  DEPRECATION: Building 'thrift' using the legacy setup.py bdist_wheel mechanism, which will be removed in a future version. pip 25.3 will enforce this behaviour change. A possible replacement is to use the standardized build interface by setting the `--use-pep517` option, (possibly combined with `--no-build-isolation`), or adding a `pyproject.toml` file to the source tree of 'thrift'. Discussion can be found at https://github.com/pypa/pip/issues/6334\u001b[0m\u001b[33m\n",
      "\u001b[0m\u001b[33m  DEPRECATION: Building 'thrift_connector' using the legacy setup.py bdist_wheel mechanism, which will be removed in a future version. pip 25.3 will enforce this behaviour change. A possible replacement is to use the standardized build interface by setting the `--use-pep517` option, (possibly combined with `--no-build-isolation`), or adding a `pyproject.toml` file to the source tree of 'thrift_connector'. Discussion can be found at https://github.com/pypa/pip/issues/6334\u001b[0m\u001b[33m\n",
      "\u001b[0mNote: you may need to restart the kernel to use updated packages.\n",
      "\n",
      "Loaded airavata_jupyter_magic (2.2.3) \n",
      "(current runtime = local)\n",
      "\n",
      "  %authenticate                              -- Authenticate to access high-performance runtimes.\n",
      "  %request_runtime <rt> [args]               -- Request a runtime named <rt> with configuration <args>.\n",
      "                                                Call multiple times to request multiple runtimes.\n",
      "  %restart_runtime <rt>                      -- Restart runtime <rt> if it hangs. This will clear all variables.\n",
      "  %stop_runtime <rt>                         -- Stop runtime <rt> when no longer needed.\n",
      "  %wait_for_runtime <rt>                     -- Wait for runtime <rt> to be ready.\n",
      "  %switch_runtime <rt>                       -- Switch the active runtime to <rt>. All subsequent cells will run here.\n",
      "  %%run_on <rt>                              -- Force a cell to always execute on <rt>, regardless of the active runtime.\n",
      "  %stat_runtime <rt>                         -- Show the status of runtime <rt>.\n",
      "  %copy_data source=<r1:f1> target=<r2:f2>   -- Copy <f1> in <r1> to <f2> in <r2>.\n",
      "  %open_tunnels <tn> --forward=<ports>       -- Open a TCP tunnel on the runtime.\n",
      "  %close_tunnels <tn>                        -- Close a TCP tunnel opened on the runtime.\n",
      "  %run_subprocess <pn> --command=<cmd>\n",
      "                       --forward=<ports>     -- Start a subprocess on the runtime.\n",
      "  %kill_subprocess <pn>                      -- Kill a subprocess started on the runtime.\n",
      "\n"
     ]
    },
    {
     "data": {
      "application/vnd.jupyter.widget-view+json": {
       "model_id": "bf8db0020ce24543800ffea555515beb",
       "version_major": 2,
       "version_minor": 0
      },
      "text/plain": [
       "Output()"
      ]
     },
     "metadata": {},
     "output_type": "display_data"
    },
    {
     "data": {
      "text/html": [
       "<pre style=\"white-space:pre;overflow-x:auto;line-height:normal;font-family:Menlo,'DejaVu Sans Mono',consolas,'Courier New',monospace\">Authenticated.\n",
       "</pre>\n"
      ],
      "text/plain": [
       "Authenticated.\n"
      ]
     },
     "metadata": {},
     "output_type": "display_data"
    },
    {
     "data": {
      "text/html": [
       "<pre style=\"white-space:pre;overflow-x:auto;line-height:normal;font-family:Menlo,'DejaVu Sans Mono',consolas,'Courier New',monospace\"></pre>\n"
      ],
      "text/plain": []
     },
     "metadata": {},
     "output_type": "display_data"
    },
    {
     "data": {
      "text/html": [
       "<pre style=\"white-space:pre;overflow-x:auto;line-height:normal;font-family:Menlo,'DejaVu Sans Mono',consolas,'Courier New',monospace\"></pre>\n"
      ],
      "text/plain": []
     },
     "metadata": {},
     "output_type": "display_data"
    },
    {
     "name": "stdout",
     "output_type": "stream",
     "text": [
      "Requesting runtime=test_cpu...\n",
      "[AnvilCPU:shared, 60 Minutes, 1 Node(s), 4 CPU(s), 1 GPU(s), 4096 MB RAM, 1024 MB VRAM]\n",
      "* modules=[]\n",
      "* libraries=['python=3.11', 'pip']\n",
      "* pip=['numpy', 'matplotlib', 'postgkyl']\n",
      "* mounts=[]\n",
      "* links={}\n",
      "Requested runtime=test_cpu\n",
      "Request successful: runtime=test_cpu\n"
     ]
    },
    {
     "data": {
      "application/vnd.jupyter.widget-view+json": {
       "model_id": "39712a8fa532461281602b327d7819c1",
       "version_major": 2,
       "version_minor": 0
      },
      "text/plain": [
       "Output()"
      ]
     },
     "metadata": {},
     "output_type": "display_data"
    },
    {
     "data": {
      "text/html": [
       "<pre style=\"white-space:pre;overflow-x:auto;line-height:normal;font-family:Menlo,'DejaVu Sans Mono',consolas,'Courier New',monospace\"></pre>\n"
      ],
      "text/plain": []
     },
     "metadata": {},
     "output_type": "display_data"
    },
    {
     "name": "stdout",
     "output_type": "stream",
     "text": [
      "local:/tmp/connection_a8azm6ef.json --> test_cpu:connection_a8azm6ef.json... [200]\n",
      "started proc_name=test_cpu_kernel on rt=test_cpu. pid=3699763\n",
      "forwarding ports=[20085, 20086, 20087, 20088, 20089]\n",
      "test_cpu:20085 -> access via 18.118.140.230:10000\n",
      "test_cpu:20086 -> access via 18.118.140.230:10001\n",
      "test_cpu:20087 -> access via 18.118.140.230:10002\n",
      "test_cpu:20088 -> access via 18.118.140.230:10003\n",
      "test_cpu:20089 -> access via 18.118.140.230:10004\n",
      "started ipykernel tunnels for test_cpu at 18.118.140.230\n",
      "started ipykernel client for test_cpu\n",
      "Remote Jupyter kernel launched and connected for runtime=test_cpu.\n",
      "Switched to runtime=test_cpu.\n"
     ]
    }
   ],
   "source": [
    "%pip install -qU \"airavata-python-sdk[notebook]\"\n",
    "import airavata_jupyter_magic\n",
    "\n",
    "%authenticate\n",
    "\n",
    "# PLEASE NOTE: At a given time, ONLY run a single job in one of the available clusters: Anvil OR Jetstream. \n",
    "# Anvil is the default cluster and if you need to run on Jetstream; comment the Anvil and uncomment the Jetstream\n",
    "# Anvil\n",
    "%request_runtime test_cpu --file=cybershuttle.yml --group=Gkeyll --walltime=60 --use=AnvilCPU:shared\n",
    "# Jetstream\n",
    "# %request_runtime test_cpu --file=cybershuttle.yml --group=Gkeyll --walltime=60 --use=Gkeyll:cloud\n",
    "\n",
    "%wait_for_runtime test_cpu --live\n",
    "%switch_runtime test_cpu"
   ]
  },
  {
   "cell_type": "code",
   "execution_count": 3,
   "id": "7cdae5d2-e8dc-4c4b-8417-3b679bc99eb0",
   "metadata": {},
   "outputs": [
    {
     "name": "stdout",
     "output_type": "stream",
     "text": [
      "executing cell on test_cpu...\n",
      "waiting for cell to finish on test_cpu...\n",
      "cell finished on test_cpu.\n"
     ]
    }
   ],
   "source": [
    "!find ~/cybershuttle/dataset/Plasma-Vlab-amitava-class/ -mindepth 1 -maxdepth 1 -type d -exec ln -s {} . \\;"
   ]
  },
  {
   "cell_type": "code",
   "execution_count": 2,
   "id": "80ec5d7e-be5e-4426-9283-f4613ac9eb77",
   "metadata": {},
   "outputs": [
    {
     "name": "stdout",
     "output_type": "stream",
     "text": [
      "executing cell on test_cpu...\n",
      "waiting for cell to finish on test_cpu...\n",
      "cell finished on test_cpu.\n"
     ]
    }
   ],
   "source": [
    "# Import python packages\n",
    "import matplotlib\n",
    "import matplotlib.pyplot as plt\n",
    "import postgkyl as pg\n",
    "import numpy as np"
   ]
  },
  {
   "cell_type": "code",
   "execution_count": 4,
   "id": "71a26ea2-169c-4345-a29e-4f1d3a6f86dc",
   "metadata": {},
   "outputs": [
    {
     "name": "stdout",
     "output_type": "stream",
     "text": [
      "executing cell on test_cpu...\n",
      "waiting for cell to finish on test_cpu...\n",
      "cell finished on test_cpu.\n"
     ]
    }
   ],
   "source": [
    "# Helper function for computing vector potential\n",
    "def calc_psi2d(fx, fy, dx=1, dy=1):#solenoidal flows\n",
    "\t'''\n",
    "\tCalcualte psi by integrating dpsi = -fy*dx + fx*dy, psi[0,0]=0.\n",
    "\tNotes: \n",
    "\t\t1. (fx=dpsi/dy,fy=-dpsi/dx) is called Hamiltonian gradient of psi, and\tcontours of psi give vector field (fx, fy);\n",
    "\t\t2. div(f)=0\n",
    "\t'''\n",
    "\tny,nx=fx.shape\n",
    "\tpsi=np.zeros((ny,nx))\n",
    "\tfor jx in range(1,nx):\n",
    "\t\tpsi[0,jx]=psi[0,jx-1]-fy[0,jx]*dx\n",
    "\tfor jy in range(1,ny):\n",
    "\t\tpsi[jy,:]=psi[jy-1,:]+fx[jy,:]*dy\n",
    "\t# since f = rot(A) gives extra restraints on f (e.g., div(f)=0)\n",
    "\t# it makes sense that information provided by fy[1:nx,:] is useless here\n",
    "\treturn psi\n",
    "\n",
    "# Helper function for finding X-points\n",
    "def find_saddles(mat : np.ndarray) -> list:                                                                                                                              \n",
    "    (N, M) = mat.shape                                                                     \n",
    "                                                                                           \n",
    "    jMax = np.argmax(mat, axis = 1) # index of col for max in each row                     \n",
    "    iMin = np.argmin(mat, axis = 0) # index of row for min in each col                     \n",
    "                                                                                           \n",
    "    IJMax = [(i,jMax[i]) for i in range(N)] # list of indexes of max of each row           \n",
    "    IJMin = [(iMin[j],j) for j in range(M)] # list of indexes of min of each col           \n",
    "                                                                                           \n",
    "    maxRowMinCol = list(set(IJMax) & set(IJMin)) # max of row, min of col                         \n",
    "                                                                                           \n",
    "    iMax = np.argmax(mat, axis = 0) # index of row for max in each col                     \n",
    "    jMin = np.argmin(mat, axis = 1) # index of col for min in each row                     \n",
    "                                                                                           \n",
    "    IJMax = [(iMax[j],j) for j in range(M)] # list of indexes of max of each col           \n",
    "    IJMin = [(i,jMin[i]) for i in range(N)] # list of indexes of min of each row           \n",
    "                                                                                           \n",
    "    minRowMaxCol = list(set(IJMax) & set(IJMin)) # min of row, max of col                                                                                          \n",
    "    \n",
    "    return maxRowMinCol + minRowMaxCol  "
   ]
  },
  {
   "cell_type": "code",
   "execution_count": 5,
   "id": "9843ad9f-6d77-4d38-96f7-07e6a80f4ca6",
   "metadata": {},
   "outputs": [
    {
     "name": "stdout",
     "output_type": "stream",
     "text": [
      "executing cell on test_cpu...\n",
      "waiting for cell to finish on test_cpu...\n",
      "cell finished on test_cpu.\n"
     ]
    }
   ],
   "source": [
    "def get_Gdata(pre, frame):\n",
    "    data_elc = pg.data.GData(\"%s-elc_%d.gkyl\" % (pre, frame))\n",
    "    data_ion = pg.data.GData(\"%s-ion_%d.gkyl\" % (pre, frame))\n",
    "    data_field = pg.data.GData(\"%s-field_%d.gkyl\" % (pre, frame))\n",
    "\n",
    "    return data_elc, data_ion, data_field\n",
    "\n",
    "def read_data(data_elc, data_ion, data_field):\n",
    "    fluid_elc = data_elc.get_values()\n",
    "    fluid_ion = data_ion.get_values()  \n",
    "    field = data_field.get_values()  \n",
    "\n",
    "    # Same grid for all electrons, ions, and EM fields\n",
    "    coords = data_elc.get_grid()\n",
    "    # Center the grid values\n",
    "    for d in range(len(coords)):\n",
    "        coords[d] = 0.5*(coords[d][:-1] + coords[d][1:])\n",
    "\n",
    "    return coords, fluid_elc, fluid_ion, field"
   ]
  },
  {
   "cell_type": "code",
   "execution_count": 6,
   "id": "1d973f41-3cb2-4b0f-a731-465b8f93394a",
   "metadata": {},
   "outputs": [
    {
     "name": "stdout",
     "output_type": "stream",
     "text": [
      "executing cell on test_cpu...\n",
      "waiting for cell to finish on test_cpu...\n",
      "cell finished on test_cpu.\n"
     ]
    }
   ],
   "source": [
    "# Helper functions for simulated spacecraft measurement\n",
    "import random\n",
    "from scipy.optimize import minimize, curve_fit\n",
    "from scipy.interpolate import griddata\n",
    "\n",
    "def min_function(params, x, y, ymin, ymax):\n",
    "    model = f_order3(x, *params)\n",
    "    residual = ((y - model) ** 2).sum()\n",
    "    \n",
    "    if np.any(model > ymax):\n",
    "        residual += 100  # Just some large value\n",
    "    if np.any(model < ymin):\n",
    "        residual += 100\n",
    "\n",
    "    return residual\n",
    "\n",
    "def f_order3(t,a,b,c,d,e,f):\n",
    "\ta*pow(t,3) + b*pow(t,2) + c*t + d\n",
    "\treturn a*pow(t,5) + b*pow(t,4) + c*pow(t,3) + d*pow(t,2) + e*t + f\n",
    "\n",
    "def find_saddles(mat : np.ndarray) -> list:                                                 \n",
    "                                                                                           \n",
    "    (N, M) = mat.shape                                                                     \n",
    "                                                                                           \n",
    "    jMax = np.argmax(mat, axis = 1) # index of col for max in each row                     \n",
    "    iMin = np.argmin(mat, axis = 0) # index of row for min in each col                     \n",
    "                                                                                           \n",
    "    IJMax = [(i,jMax[i]) for i in range(N)] # list of indexes of max of each row           \n",
    "    IJMin = [(iMin[j],j) for j in range(M)] # list of indexes of min of each col           \n",
    "                                                                                           \n",
    "    maxRowMinCol = list(set(IJMax) & set(IJMin)) # max of row, min of col                  \n",
    "                                                                                           \n",
    "                                                                                           \n",
    "    iMax = np.argmax(mat, axis = 0) # index of row for max in each col                     \n",
    "    jMin = np.argmin(mat, axis = 1) # index of col for min in each row                     \n",
    "                                                                                           \n",
    "    IJMax = [(iMax[j],j) for j in range(M)] # list of indexes of max of each col           \n",
    "    IJMin = [(i,jMin[i]) for i in range(N)] # list of indexes of min of each row           \n",
    "                                                                                           \n",
    "    minRowMaxCol = list(set(IJMax) & set(IJMin)) # min of row, max of col                  \n",
    "                                                                                           \n",
    "                                                                                           \n",
    "    return maxRowMinCol + minRowMaxCol\n",
    "\n",
    "def lookupNearest(data, x, y, x0, y0):\n",
    "    xi = numpy.abs(x-x0).argmin()\n",
    "    yi = numpy.abs(y-y0).argmin()\n",
    "    return [yi,xi]\n",
    "\n",
    "#Returns f between f0 and f1, which are function values at cell edges, \n",
    "#dx is distance from f0 to f, and dx01 is the cell width\n",
    "def linInterp(f0, f1, dx, dx01):\n",
    "    return (f1*dx + f0*(dx01-dx))/dx01\n",
    "\n",
    "def bilinInterp(f00,f10,f01,f11,dx,dy,dx01,dy01):\n",
    "    #Interpolate in x\n",
    "    f0 = linInterp(f00,f10,dx,dx01)\n",
    "    f1 = linInterp(f01,f11,dx,dx01)\n",
    "\n",
    "    #Interpolate in y\n",
    "    return linInterp(f0,f1,dy,dy01)\n",
    "\n",
    "#Returns f inside cube with verticies fijk\n",
    "#dx is distance from f0jk to f in x, and dx01 is the cell width (f0jk to f1jk)\n",
    "#dy and dz are similar\n",
    "def trilinInterp(f000,f100,f010,f001,f110,f101,f011,f111,dx,dy,dz,dx01,dy01,dz01):\n",
    "\n",
    "    #Interpolate in x\n",
    "    f00 = linInterp(f000,f100,dx,dx01)\n",
    "    f01 = linInterp(f001,f101,dx,dx01)\n",
    "    f11 = linInterp(f011,f111,dx,dx01)\n",
    "    f10 = linInterp(f010,f110,dx,dx01)\n",
    "\n",
    "    #Interpolate in y\n",
    "    f0 = linInterp(f00,f10,dy,dy01)\n",
    "    f1 = linInterp(f01,f11,dy,dy01)\n",
    "\n",
    "    #Interpolate in z\n",
    "    return linInterp(f0,f1,dz,dz01)"
   ]
  },
  {
   "cell_type": "code",
   "execution_count": 7,
   "id": "f55e36bd-7fb8-4861-952f-6ddebfe9bcea",
   "metadata": {},
   "outputs": [
    {
     "name": "stdout",
     "output_type": "stream",
     "text": [
      "executing cell on test_cpu...\n",
      "waiting for cell to finish on test_cpu...\n",
      "cell finished on test_cpu.\n"
     ]
    }
   ],
   "source": [
    "# User options\n",
    "show_trajectory = False # Shows the trajectory plot\n",
    "save_file = False # Saves generated data to a file\n",
    "group_id = 0 # ID of datafile"
   ]
  },
  {
   "cell_type": "code",
   "execution_count": 8,
   "id": "f83cbdbc-4d12-4b57-bf81-1dcffdfe6f57",
   "metadata": {},
   "outputs": [
    {
     "name": "stdout",
     "output_type": "stream",
     "text": [
      "executing cell on test_cpu...\n",
      "waiting for cell to finish on test_cpu...\n",
      "cell finished on test_cpu.\n"
     ]
    }
   ],
   "source": [
    "# Simulation parameters\n",
    "epsilon0 = 1.0 # Permittivity of free space.\n",
    "mu0 = 1.0 # Permeability of free space.\n",
    "light_speed = 1.0/np.sqrt(epsilon0*mu0) # Speed of light. \n",
    "mass_ion = 1.0 # Ion mass.\n",
    "mass_elc = [1.0/100.0,1.0/256.0] # Ion mass.\n",
    "charge_ion = 1.0 # Ion charge.\n",
    "charge_elc = -1.0 # Ion charge.\n",
    "n0 = 1.0 # Reference number density.\n",
    "wpi = np.sqrt(charge_ion**2 * n0 / (epsilon0 * mass_ion)) # Ion plasma frequency.\n",
    "di = light_speed/wpi # Ion inertial length. "
   ]
  },
  {
   "cell_type": "code",
   "execution_count": 9,
   "id": "a7c68dd7-aadc-4bb7-9c15-c1724df1cd67",
   "metadata": {},
   "outputs": [
    {
     "name": "stdout",
     "output_type": "stream",
     "text": [
      "executing cell on test_cpu...\n",
      "waiting for cell to finish on test_cpu...\n",
      "cell finished on test_cpu.\n"
     ]
    }
   ],
   "source": [
    "# Randomly choose one of the two reconnection layers and load data\n",
    "file_idx = random.randint(0, 1)\n",
    "files = [\"10m_magnetopause/10m_magnetopause\", \"10m_magnetotail/10m_magnetotail\"]\n",
    "frame = [60, 20]\n",
    "\n",
    "data_elc, data_ion, data_field = get_Gdata(files[file_idx], frame[file_idx])\n",
    "r_coords, r_fluid_elc, r_fluid_ion, r_field = read_data(data_elc, data_ion, data_field)\n",
    "\n",
    "ymin = [r_coords[1][0]/di, r_coords[1][0]/di]\n",
    "ymax = [r_coords[1][-1]/(2.0*di), r_coords[1][-1]/di]\n",
    "\n",
    "# Compute out-of-plane current density\n",
    "Nx = r_fluid_ion.shape[0]\n",
    "Ny = r_fluid_ion.shape[1]\n",
    "Jx = np.zeros((Nx, Ny))\n",
    "Jx = charge_ion/mass_ion*r_fluid_ion[...,1] + charge_elc/mass_elc[file_idx]*r_fluid_elc[...,1]\n",
    "Jy = np.zeros((Nx, Ny))\n",
    "Jy = charge_ion/mass_ion*r_fluid_ion[...,2] + charge_elc/mass_elc[file_idx]*r_fluid_elc[...,2]\n",
    "Jz = np.zeros((Nx, Ny))\n",
    "Jz = charge_ion/mass_ion*r_fluid_ion[...,3] + charge_elc/mass_elc[file_idx]*r_fluid_elc[...,3]\n",
    "n_e = r_fluid_elc[...,0]\n",
    "n_i = r_fluid_ion[...,0]\n",
    "ntot = n_e + n_i\n",
    "ux_e = r_fluid_elc[...,1]/r_fluid_elc[...,0]\n",
    "uy_e = r_fluid_elc[...,2]/r_fluid_elc[...,0]\n",
    "uz_e = r_fluid_elc[...,3]/r_fluid_elc[...,0]\n",
    "ux_i = r_fluid_ion[...,1]/r_fluid_ion[...,0]\n",
    "uy_i = r_fluid_ion[...,2]/r_fluid_ion[...,0]\n",
    "uz_i = r_fluid_ion[...,3]/r_fluid_ion[...,0]\n",
    "\n",
    "# Compute contours of the magnetic field.\n",
    "Ex = r_field[...,0]\n",
    "Ey = r_field[...,1]\n",
    "Ez = r_field[...,2]\n",
    "Bx = r_field[...,3]\n",
    "By = r_field[...,4]\n",
    "Bz = r_field[...,5]\n",
    "Bmag = np.sqrt(Bx*Bx + By*By + Bz*Bz)\n",
    "bx = Bx/Bmag\n",
    "by = By/Bmag\n",
    "bz = Bz/Bmag\n",
    "uperp_e = ux_e*bx + uy_e*by + uz_e*bz\n",
    "uperp_i = ux_i*bx + uy_i*by + uz_i*bz\n",
    "dx = r_coords[0][1] - r_coords[0][0]\n",
    "dy = r_coords[1][1] - r_coords[1][0]\n",
    "psi = np.zeros((Ny, Nx))\n",
    "psi = calc_psi2d(Bx.transpose(),By.transpose(), dx, dy)\n",
    "\n",
    "saddles = find_saddles(psi)\n",
    "\n",
    "x = np.zeros(10)\n",
    "y = np.zeros(10)\n",
    "\n",
    "x[0] = r_coords[0][saddles[file_idx][1]]/di\n",
    "y[0] = r_coords[1][saddles[file_idx][0]]/di"
   ]
  },
  {
   "cell_type": "code",
   "execution_count": 10,
   "id": "bb21640e-1eb6-4810-a2ff-6dc4d82b377d",
   "metadata": {},
   "outputs": [
    {
     "name": "stdout",
     "output_type": "stream",
     "text": [
      "executing cell on test_cpu...\n",
      "waiting for cell to finish on test_cpu...\n",
      "Failure!\n",
      "Failure!\n",
      "Failure!\n",
      "cell finished on test_cpu.\n"
     ]
    }
   ],
   "source": [
    "# Generate random trajectory through the chosen reconnection layer\n",
    "failure = True\n",
    "while failure == True:\n",
    "    failure = False\n",
    "    for i in range(1,10):\n",
    "        x[i] = random.uniform(r_coords[0][0], r_coords[0][-1])\n",
    "        y[i] = random.uniform(ymin[file_idx], ymax[file_idx])\n",
    "    \n",
    "    popt, pcov = curve_fit(f_order3, x, y)\n",
    "    popt[-1] = popt[-1] + (y[0] - f_order3(x[0], *popt))\n",
    "    x_path = np.linspace(r_coords[0][0], r_coords[0][-1], num=1000)\n",
    "    y_path = f_order3(np.array(x_path), *popt)\n",
    "    \n",
    "    popt = minimize(min_function, x0=(popt[0], popt[1], popt[2], popt[3], popt[4], popt[5]), args=(x, y,r_coords[1][0], r_coords[1][-1]))\n",
    "    \n",
    "    popt.x[-1] = popt.x[-1] + (y[0] - f_order3(x[0], *popt.x))\n",
    "    x_path = np.linspace(r_coords[0][0], r_coords[0][-1], num=1000)\n",
    "    y_path = f_order3(np.array(x_path), *popt.x)\n",
    "\n",
    "    Ntot = len(x_path)\n",
    "    i = 0\n",
    "    in_range = False\n",
    "    past_xpoint = False\n",
    "    while i < Ntot:\n",
    "        if (x_path[i] >= x[0]):\n",
    "            past_xpoint = True\n",
    "        if ((y_path[i] >= ymax[file_idx]) or (y_path[i] <= ymin[file_idx])) and (in_range == False):\n",
    "            y_path = np.delete(y_path, i)\n",
    "            x_path = np.delete(x_path, i)\n",
    "            i = i - 1\n",
    "            Ntot = Ntot - 1\n",
    "        elif ((y_path[i] <= ymax[file_idx]) and (y_path[i] >= ymin[file_idx])) and (in_range == False):\n",
    "            in_range = True\n",
    "        elif ((y_path[i] >= ymax[file_idx]) or (y_path[i] <= ymin[file_idx])) and (in_range == True) and (past_xpoint == False):\n",
    "            print(\"Failure!\")\n",
    "            failure = True\n",
    "            break\n",
    "        elif ((y_path[i] >= ymax[file_idx]) or (y_path[i] <= ymin[file_idx])) and (in_range == True) and (past_xpoint == True):\n",
    "            y_path = np.delete(y_path, i)\n",
    "            x_path = np.delete(x_path, i)\n",
    "            i = i - 1\n",
    "            Ntot = Ntot - 1\n",
    "        i = i + 1"
   ]
  },
  {
   "cell_type": "code",
   "execution_count": 11,
   "id": "8c2e3c52-283d-4d71-8c6e-c3fd48234331",
   "metadata": {},
   "outputs": [
    {
     "name": "stdout",
     "output_type": "stream",
     "text": [
      "executing cell on test_cpu...\n",
      "waiting for cell to finish on test_cpu...\n"
     ]
    },
    {
     "data": {
      "text/plain": [
       "Text(0.5, 0, 'Time (a.u.)')"
      ]
     },
     "metadata": {},
     "output_type": "display_data"
    },
    {
     "data": {
      "image/png": "[encoded data removed]",
      "text/plain": [
       "<Figure size 1000x800 with 6 Axes>"
      ]
     },
     "metadata": {},
     "output_type": "display_data"
    },
    {
     "name": "stdout",
     "output_type": "stream",
     "text": [
      "cell finished on test_cpu.\n"
     ]
    }
   ],
   "source": [
    "# Plot trajectory data\n",
    "dx = r_coords[0][1] - r_coords[0][0]\n",
    "dy = r_coords[1][1] - r_coords[1][0]\n",
    "\n",
    "sc_bx = np.zeros(len(x_path))\n",
    "sc_by = np.zeros(len(x_path))\n",
    "sc_bz = np.zeros(len(x_path))\n",
    "sc_n = np.zeros(len(x_path))\n",
    "sc_ux = np.zeros(len(x_path))\n",
    "sc_uy = np.zeros(len(x_path))\n",
    "sc_uz = np.zeros(len(x_path))\n",
    "sc_uperp_e = np.zeros(len(x_path))\n",
    "sc_uperp_i = np.zeros(len(x_path))\n",
    "sc_jx = np.zeros(len(x_path))\n",
    "sc_jy = np.zeros(len(x_path))\n",
    "sc_jz = np.zeros(len(x_path))\n",
    "t = np.zeros(len(x_path))\n",
    "sc_ex = np.zeros(len(x_path))\n",
    "sc_ey = np.zeros(len(x_path))\n",
    "sc_ez = np.zeros(len(x_path))\n",
    "\n",
    "for j in range(Ntot - 1):\n",
    "    i = j + 1\n",
    "    x_coord = x_path[i]\n",
    "    y_coord = y_path[i]\n",
    "    \n",
    "    x_vals = np.flatnonzero(np.abs(x_coord - r_coords[0]) < dx)\n",
    "    y_vals = np.flatnonzero(np.abs(y_coord - r_coords[1]) < dy)\n",
    "    \n",
    "    t[i] = t[i-1] + np.sqrt((x_coord - x_path[i-1])**2 + (y_coord - y_path[i-1])**2)\n",
    "    \n",
    "    sc_bx[i] = bilinInterp(Bx[x_vals[0], y_vals[0]], Bx[x_vals[1], y_vals[0]], Bx[x_vals[0], y_vals[1]], Bx[x_vals[1], y_vals[1]], x_coord - r_coords[0][x_vals[0]], y_coord - r_coords[1][y_vals[0]], dx, dy)\n",
    "    sc_by[i] = bilinInterp(By[x_vals[0], y_vals[0]], By[x_vals[1], y_vals[0]], By[x_vals[0], y_vals[1]], By[x_vals[1], y_vals[1]], x_coord - r_coords[0][x_vals[0]], y_coord - r_coords[1][y_vals[0]], dx, dy)\n",
    "    sc_bz[i] = bilinInterp(Bz[x_vals[0], y_vals[0]], Bz[x_vals[1], y_vals[0]], Bz[x_vals[0], y_vals[1]], Bz[x_vals[1], y_vals[1]], x_coord - r_coords[0][x_vals[0]], y_coord - r_coords[1][y_vals[0]], dx, dy)\n",
    "    sc_n[i] = bilinInterp(ntot[x_vals[0], y_vals[0]], ntot[x_vals[1], y_vals[0]], ntot[x_vals[0], y_vals[1]], ntot[x_vals[1], y_vals[1]], x_coord - r_coords[0][x_vals[0]], y_coord - r_coords[1][y_vals[0]], dx, dy)\n",
    "    sc_ux[i] = bilinInterp(ux_i[x_vals[0], y_vals[0]], ux_i[x_vals[1], y_vals[0]], ux_i[x_vals[0], y_vals[1]], ux_i[x_vals[1], y_vals[1]], x_coord - r_coords[0][x_vals[0]], y_coord - r_coords[1][y_vals[0]], dx, dy)\n",
    "    sc_uy[i] = bilinInterp(uy_i[x_vals[0], y_vals[0]], uy_i[x_vals[1], y_vals[0]], uy_i[x_vals[0], y_vals[1]], uy_i[x_vals[1], y_vals[1]], x_coord - r_coords[0][x_vals[0]], y_coord - r_coords[1][y_vals[0]], dx, dy)\n",
    "    sc_uz[i] = bilinInterp(uz_i[x_vals[0], y_vals[0]], uz_i[x_vals[1], y_vals[0]], uz_i[x_vals[0], y_vals[1]], uz_i[x_vals[1], y_vals[1]], x_coord - r_coords[0][x_vals[0]], y_coord - r_coords[1][y_vals[0]], dx, dy)\n",
    "    sc_uperp_e[i] = bilinInterp(uperp_e[x_vals[0], y_vals[0]], uperp_e[x_vals[1], y_vals[0]], uperp_e[x_vals[0], y_vals[1]], uperp_e[x_vals[1], y_vals[1]], x_coord - r_coords[0][x_vals[0]], y_coord - r_coords[1][y_vals[0]], dx, dy)\n",
    "    sc_uperp_i[i] = bilinInterp(uperp_i[x_vals[0], y_vals[0]], uperp_i[x_vals[1], y_vals[0]], uperp_i[x_vals[0], y_vals[1]], uperp_i[x_vals[1], y_vals[1]], x_coord - r_coords[0][x_vals[0]], y_coord - r_coords[1][y_vals[0]], dx, dy)\n",
    "    sc_jz[i] = bilinInterp(Jz[x_vals[0], y_vals[0]], Jz[x_vals[1], y_vals[0]], Jz[x_vals[0], y_vals[1]], Jz[x_vals[1], y_vals[1]], x_coord - r_coords[0][x_vals[0]], y_coord - r_coords[1][y_vals[0]], dx, dy)\n",
    "    sc_ex[i] = bilinInterp(Ex[x_vals[0], y_vals[0]], Ex[x_vals[1], y_vals[0]], Ex[x_vals[0], y_vals[1]], Ex[x_vals[1], y_vals[1]], x_coord - r_coords[0][x_vals[0]], y_coord - r_coords[1][y_vals[0]], dx, dy)\n",
    "    sc_ey[i] = bilinInterp(Ey[x_vals[0], y_vals[0]], Ey[x_vals[1], y_vals[0]], Ey[x_vals[0], y_vals[1]], Ey[x_vals[1], y_vals[1]], x_coord - r_coords[0][x_vals[0]], y_coord - r_coords[1][y_vals[0]], dx, dy)\n",
    "    sc_ez[i] = bilinInterp(Ez[x_vals[0], y_vals[0]], Ez[x_vals[1], y_vals[0]], Ez[x_vals[0], y_vals[1]], Ez[x_vals[1], y_vals[1]], x_coord - r_coords[0][x_vals[0]], y_coord - r_coords[1][y_vals[0]], dx, dy)\n",
    "\n",
    "t = t*100/np.max(t)\n",
    "fig, ax = plt.subplots(6, sharex=True, figsize=(10,8))\n",
    "ax[0].plot(t, sc_bx, label=\"$B_L$\")\n",
    "ax[0].plot(t, sc_bz, label=\"$B_M$\")\n",
    "ax[0].plot(t, sc_by, label=\"$B_N$\")\n",
    "ax[0].set_ylabel(\"$B_{LMN}$\")\n",
    "ax[0].legend(bbox_to_anchor=(1.0, 1), loc=\"upper left\")\n",
    "ax[1].plot(t, sc_n)\n",
    "ax[1].set_ylabel(\"$N$\")\n",
    "ax[2].plot(t, sc_ux, label=\"$u_L$\")\n",
    "ax[2].plot(t, sc_uy, label=\"$u_N$\")\n",
    "ax[2].legend(bbox_to_anchor=(1.0, 1), loc=\"upper left\")\n",
    "ax[2].set_ylabel(\"$u_{i,LMN}$\")\n",
    "ax[3].plot(t, sc_uperp_e, label=r\"$u_{e,\\perp}$\")\n",
    "ax[3].plot(t, sc_uperp_i, label=r\"$u_{i,\\perp}$\")\n",
    "ax[3].set_ylabel(r\"$u_{\\perp}$\")\n",
    "ax[3].legend(bbox_to_anchor=(1.0, 1), loc=\"upper left\")\n",
    "ax[4].plot(t, sc_jz)\n",
    "ax[4].set_ylabel(\"$J_z$\")\n",
    "ax[5].plot(t, sc_ex, label=\"$E_L$\")\n",
    "ax[5].plot(t, sc_ey, label=\"$E_N$\")\n",
    "ax[5].set_ylabel(\"$E_{LMN}$\")\n",
    "ax[5].legend(bbox_to_anchor=(1.0, 1), loc=\"upper left\")\n",
    "\n",
    "plt.subplots_adjust(wspace=0, hspace=0)\n",
    "plt.xlim([0.0, t[-1]])\n",
    "plt.xlabel('Time (a.u.)')"
   ]
  },
  {
   "cell_type": "code",
   "execution_count": 12,
   "id": "b2c640a2-a9ba-4ad9-be93-115ada36519b",
   "metadata": {},
   "outputs": [
    {
     "name": "stdout",
     "output_type": "stream",
     "text": [
      "executing cell on test_cpu...\n",
      "waiting for cell to finish on test_cpu...\n",
      "cell finished on test_cpu.\n"
     ]
    }
   ],
   "source": [
    "# Plot generated trajectory\n",
    "if show_trajectory == True:\n",
    "    vmax = np.max(Jz)\n",
    "    vmin = -vmax\n",
    "    plt.figure(figsize=(15,3))\n",
    "    plt.pcolormesh(r_coords[0]/di, r_coords[1]/di, Jz[:,:].transpose(), vmax=vmax, vmin=vmin, cmap=\"seismic\", shading=\"gouraud\")\n",
    "    plt.colorbar(format='%.2f', ticks=np.linspace(vmin, vmax, 3), fraction=0.046, pad=0.04)\n",
    "    plt.contour(r_coords[0]/di, r_coords[1]/di, psi, 10, colors=\"k\", linestyles=\"solid\")\n",
    "    plt.plot(x_path, y_path, linewidth=1, color='green', ls='--')\n",
    "    plt.xlabel(r'$x/d_i$')\n",
    "    plt.ylabel(r'$y/d_i$')\n",
    "    plt.scatter(r_coords[0][saddles[file_idx][1]]/di, r_coords[1][saddles[file_idx][0]]/di, color='green', marker='X')\n",
    "    plt.ylim(ymin[file_idx], ymax[file_idx])\n",
    "    plt.xlim(r_coords[0][0], r_coords[0][-1])\n",
    "    plt.setp(plt.gca(), aspect=1.0)\n",
    "    plt.show()"
   ]
  },
  {
   "cell_type": "code",
   "execution_count": 13,
   "id": "8dbf25ed-79ef-4a6b-b88a-6d390734ff7c",
   "metadata": {},
   "outputs": [
    {
     "name": "stdout",
     "output_type": "stream",
     "text": [
      "executing cell on test_cpu...\n",
      "waiting for cell to finish on test_cpu...\n",
      "cell finished on test_cpu.\n"
     ]
    }
   ],
   "source": [
    "# Save data to file\n",
    "if save_file == True:\n",
    "    rd_file = \"sc_data/random_%d.npz\"\n",
    "    np.savez(rd_file % group_id, t=t, bx=sc_bx, by=sc_by, bz=sc_bz, n=sc_n, ux=sc_ux, uy=sc_uy, uz=sc_uz, uperp_e=sc_uperp_e, uperp_i=sc_uperp_i, jz=sc_jz, ex=sc_ex, ey=sc_ey, ez=sc_ez, x=x_path, y=y_path)"
   ]
  },
  {
   "cell_type": "code",
   "execution_count": 14,
   "id": "c7823993-535c-4c5d-8b68-729ec790ed18",
   "metadata": {},
   "outputs": [
    {
     "name": "stdout",
     "output_type": "stream",
     "text": [
      "executing cell on test_cpu...\n",
      "waiting for cell to finish on test_cpu...\n",
      "cell finished on test_cpu.\n"
     ]
    }
   ],
   "source": [
    "# Plot from datafile\n",
    "if save_file == True:\n",
    "    sc_data = np.load(rd_file)\n",
    "    \n",
    "    fig, ax = plt.subplots(6, sharex=True, figsize=(10,8))\n",
    "    ax[0].plot(sc_data['t'], sc_data['bx'], label=\"$B_L$\")\n",
    "    ax[0].plot(sc_data['t'], sc_data['by'], label=\"$B_M$\")\n",
    "    ax[0].plot(sc_data['t'], sc_data['bz'], label=\"$B_N$\")\n",
    "    ax[0].set_ylabel(\"$B_{LMN}$\")\n",
    "    ax[0].legend(bbox_to_anchor=(1.0, 1), loc=\"upper left\")\n",
    "    ax[1].plot(sc_data['t'], sc_data['n'])\n",
    "    ax[1].set_ylabel(\"$N$\")\n",
    "    ax[2].plot(sc_data['t'], sc_data['ux'], label=\"$u_L$\")\n",
    "    ax[2].plot(sc_data['t'], sc_data['uy'], label=\"$u_N$\")\n",
    "    ax[2].legend(bbox_to_anchor=(1.0, 1), loc=\"upper left\")\n",
    "    ax[2].set_ylabel(\"$u_{i,LMN}$\")\n",
    "    ax[3].plot(sc_data['t'], sc_data['uperp_e'], label=r\"$u_{e,\\perp}$\")\n",
    "    ax[3].plot(sc_data['t'], sc_data['uperp_i'], label=r\"$u_{i,\\perp}$\")\n",
    "    ax[3].set_ylabel(r\"$u_{\\perp}$\")\n",
    "    ax[3].legend(bbox_to_anchor=(1.0, 1), loc=\"upper left\")\n",
    "    ax[4].plot(sc_data['t'], sc_data['jz'])\n",
    "    ax[4].set_ylabel(\"$J_z$\")\n",
    "    ax[5].plot(sc_data['t'], sc_data['ex'], label=\"$E_L$\")\n",
    "    ax[5].plot(sc_data['t'], sc_data['ez'], label=\"$E_M$\")\n",
    "    ax[5].plot(sc_data['t'], sc_data['ey'], label=\"$E_N$\")\n",
    "    ax[5].set_ylabel(\"$E_{LMN}$\")\n",
    "    ax[5].legend(bbox_to_anchor=(1.0, 1), loc=\"upper left\")\n",
    "    plt.subplots_adjust(wspace=0, hspace=0)\n",
    "    plt.xlim([0.0, t[-1]])\n",
    "    plt.xlabel('Time (a.u.)')\n",
    "    \n",
    "    vmax = np.max(Jz)\n",
    "    vmin = -vmax\n",
    "    plt.figure(figsize=(15,3))\n",
    "    plt.pcolormesh(r_coords[0]/di, r_coords[1]/di, Jz[:,:].transpose(), vmax=vmax, vmin=vmin, cmap=\"seismic\", shading=\"gouraud\")\n",
    "    plt.colorbar(format='%.2f', ticks=np.linspace(vmin, vmax, 3), fraction=0.046, pad=0.04)\n",
    "    plt.contour(r_coords[0]/di, r_coords[1]/di, psi, 10, colors=\"k\", linestyles=\"solid\")\n",
    "    plt.plot(sc_data['x'], sc_data['y'], linewidth=1, color='green', ls='--')\n",
    "    plt.xlabel(r'$x/d_i$')\n",
    "    plt.ylabel(r'$y/d_i$')\n",
    "    plt.scatter(r_coords[0][saddles[file_idx][1]]/di, r_coords[1][saddles[file_idx][0]]/di, color='green', marker='X')\n",
    "    plt.ylim(ymin[file_idx], ymax[file_idx])\n",
    "    plt.xlim(r_coords[0][0], r_coords[0][-1])\n",
    "    plt.setp(plt.gca(), aspect=1.0)\n",
    "    plt.show()"
   ]
  },
  {
   "cell_type": "code",
   "execution_count": 15,
   "id": "7985f34d-c1a2-40b8-a4be-2594df4796d2",
   "metadata": {},
   "outputs": [
    {
     "name": "stdout",
     "output_type": "stream",
     "text": [
      "Terminated runtime=test_cpu. state={'experimentId': 'CS_Agent_2f12c867-04f8-4156-bfb7-ff1252f3995c', 'terminated': True}\n",
      "Switched to runtime=local.\n"
     ]
    }
   ],
   "source": [
    "%stop_runtime test_cpu\n",
    "%switch_runtime local"
   ]
  },
  {
   "cell_type": "code",
   "execution_count": null,
   "id": "bbeb0aa3-3d7a-4d60-ace9-d4b7ef40d58e",
   "metadata": {},
   "outputs": [],
   "source": []
  }
 ],
 "metadata": {
  "kernelspec": {
   "display_name": "Python 3 (ipykernel)",
   "language": "python",
   "name": "python3"
  },
  "language_info": {
   "codemirror_mode": {
    "name": "ipython",
    "version": 3
   },
   "file_extension": ".py",
   "mimetype": "text/x-python",
   "name": "python",
   "nbconvert_exporter": "python",
   "pygments_lexer": "ipython3",
   "version": "3.12.11"
  }
 },
 "nbformat": 4,
 "nbformat_minor": 5
}
