{
 "cells": [
  {
   "cell_type": "markdown",
   "id": "d44ab5e6-1229-438e-a780-a73cf2855abf",
   "metadata": {},
   "source": [
    "#### ​Initialize, Authenticate, and Configure Remote Execution Environment\n",
    "\n",
    "##### Start a Cybershuttle Remote Executor: This will submit a remote job to Anvil\n",
    "- **Cluster** - Anvil & Jetstream\n",
    "- **Community Allocation** - Gkeyll\n",
    "- **Requested Resources** \n",
    "    - 4 CPUs, 4GB Memory, 60 Minutes, Shared Queue\n",
    "    - 1 CPUs, 60 Minutes, Cloud Queue\n",
    "\n",
    "##### This remote job enables the generation of plotE_z with post gkeyll code.\n"
   ]
  },
  {
   "cell_type": "code",
   "execution_count": 1,
   "id": "ae3f8f6f-2c94-44de-9a33-073a02bf05a4",
   "metadata": {},
   "outputs": [
    {
     "name": "stdout",
     "output_type": "stream",
     "text": [
      "\u001b[33mWARNING: The directory '/home/jovyan/.cache/pip' or its parent directory is not owned or is not writable by the current user. The cache has been disabled. Check the permissions and owner of that directory. If executing pip with sudo, you should use sudo's -H flag.\u001b[0m\u001b[33m\n",
      "\u001b[0mNote: you may need to restart the kernel to use updated packages.\n",
      "\n",
      "Loaded airavata_jupyter_magic (2.1.4.post4) \n",
      "(current runtime = local)\n",
      "\n",
      "  %authenticate                              -- Authenticate to access high-performance runtimes.\n",
      "  %request_runtime <rt> [args]               -- Request a runtime named <rt> with configuration <args>.\n",
      "                                                Call multiple times to request multiple runtimes.\n",
      "  %restart_runtime <rt>                      -- Restart runtime <rt> if it hangs. This will clear all variables.\n",
      "  %stop_runtime <rt>                         -- Stop runtime <rt> when no longer needed.\n",
      "  %wait_for_runtime <rt>                     -- Wait for runtime <rt> to be ready.\n",
      "  %switch_runtime <rt>                       -- Switch the active runtime to <rt>. All subsequent cells will run here.\n",
      "  %%run_on <rt>                              -- Force a cell to always execute on <rt>, regardless of the active runtime.\n",
      "  %stat_runtime <rt>                         -- Show the status of runtime <rt>.\n",
      "  %copy_data source=<r1:f1> target=<r2:f2>   -- Copy <f1> in <r1> to <f2> in <r2>.\n",
      "  %open_tunnels <tn> --forward=<ports>       -- Open a TCP tunnel on the runtime.\n",
      "  %close_tunnels <tn>                        -- Close a TCP tunnel opened on the runtime.\n",
      "  %run_subprocess <pn> --command=<cmd>\n",
      "                       --forward=<ports>     -- Start a subprocess on the runtime.\n",
      "  %kill_subprocess <pn>                      -- Kill a subprocess started on the runtime.\n",
      "\n"
     ]
    },
    {
     "data": {
      "application/vnd.jupyter.widget-view+json": {
       "model_id": "",
       "version_major": 2,
       "version_minor": 0
      },
      "text/plain": [
       "Output()"
      ]
     },
     "metadata": {},
     "output_type": "display_data"
    },
    {
     "data": {
      "text/html": [
       "<pre style=\"white-space:pre;overflow-x:auto;line-height:normal;font-family:Menlo,'DejaVu Sans Mono',consolas,'Courier New',monospace\">Authenticated.\n",
       "</pre>\n"
      ],
      "text/plain": [
       "Authenticated.\n"
      ]
     },
     "metadata": {},
     "output_type": "display_data"
    },
    {
     "data": {
      "text/html": [
       "<pre style=\"white-space:pre;overflow-x:auto;line-height:normal;font-family:Menlo,'DejaVu Sans Mono',consolas,'Courier New',monospace\"></pre>\n"
      ],
      "text/plain": []
     },
     "metadata": {},
     "output_type": "display_data"
    },
    {
     "data": {
      "text/html": [
       "<pre style=\"white-space:pre;overflow-x:auto;line-height:normal;font-family:Menlo,'DejaVu Sans Mono',consolas,'Courier New',monospace\"></pre>\n"
      ],
      "text/plain": []
     },
     "metadata": {},
     "output_type": "display_data"
    },
    {
     "name": "stdout",
     "output_type": "stream",
     "text": [
      "Requesting runtime=test_cpu...\n",
      "[Gkeyll:cloud, 60 Minutes, 1 Node(s), 4 CPU(s), 1 GPU(s), 4096 MB RAM, 1024 MB VRAM]\n",
      "* modules=[]\n",
      "* libraries=['python=3.11', 'pip']\n",
      "* pip=['postgkyl']\n",
      "* mounts=[]\n",
      "Requested runtime=test_cpu\n",
      "Request successful: runtime=test_cpu\n"
     ]
    },
    {
     "data": {
      "application/vnd.jupyter.widget-view+json": {
       "model_id": "11fc33e4249445b6a55cc673434f453b",
       "version_major": 2,
       "version_minor": 0
      },
      "text/plain": [
       "Output()"
      ]
     },
     "metadata": {},
     "output_type": "display_data"
    },
    {
     "data": {
      "text/html": [
       "<pre style=\"white-space:pre;overflow-x:auto;line-height:normal;font-family:Menlo,'DejaVu Sans Mono',consolas,'Courier New',monospace\"></pre>\n"
      ],
      "text/plain": []
     },
     "metadata": {},
     "output_type": "display_data"
    },
    {
     "name": "stdout",
     "output_type": "stream",
     "text": [
      "local:/tmp/connection_787uhexk.json --> test_cpu:connection_787uhexk.json... [200]\n",
      "started proc_name=test_cpu_kernel on rt=test_cpu. pid=8539\n",
      "forwarding ports=[15260, 15261, 15262, 15263, 15264]\n",
      "test_cpu:15260 -> access via 18.118.140.230:10000\n",
      "test_cpu:15261 -> access via 18.118.140.230:10001\n",
      "test_cpu:15262 -> access via 18.118.140.230:10002\n",
      "test_cpu:15263 -> access via 18.118.140.230:10003\n",
      "test_cpu:15264 -> access via 18.118.140.230:10004\n",
      "started ipykernel tunnels for test_cpu at 18.118.140.230\n",
      "started ipykernel client for test_cpu\n",
      "Remote Jupyter kernel launched and connected for runtime=test_cpu.\n",
      "Switched to runtime=test_cpu.\n"
     ]
    }
   ],
   "source": [
    "%pip install -qU \"airavata-python-sdk[notebook]\"\n",
    "import airavata_jupyter_magic\n",
    "\n",
    "%authenticate\n",
    "\n",
    "# PLEASE NOTE: At a given time, ONLY run a single job in one of the available clusters: Anvil OR Jetstream. \n",
    "# Anvil is the default cluster and if you need to run on Jetstream; comment the Anvil and uncomment the Jetstream\n",
    "# Anvil\n",
    "# %request_runtime test_cpu --file=cybershuttle.yml --group=Gkeyll --walltime=60 --use=AnvilCPU:shared\n",
    "# Jetstream\n",
    "%request_runtime test_cpu --file=cybershuttle.yml --group=Gkeyll --walltime=60 --use=Gkeyll:cloud\n",
    "\n",
    "%wait_for_runtime test_cpu --live\n",
    "%switch_runtime test_cpu"
   ]
  },
  {
   "cell_type": "code",
   "execution_count": 2,
   "id": "aebd5d11-8f1d-4251-99e2-60bd06bed837",
   "metadata": {},
   "outputs": [
    {
     "name": "stdout",
     "output_type": "stream",
     "text": [
      "executing cell on test_cpu...\n",
      "waiting for cell to finish on test_cpu...\n",
      "cell finished on test_cpu.\n"
     ]
    }
   ],
   "source": [
    "import os\n",
    "\n",
    "#Anvil and Jetstream data path\n",
    "data_path = os.path.expanduser(\"~/cybershuttle/dataset/Plasma-Vlab-gemReconnection\")"
   ]
  },
  {
   "cell_type": "code",
   "execution_count": 3,
   "id": "4c5308aa-a6d2-4b8e-8e9e-ad6c2a6b7380",
   "metadata": {},
   "outputs": [
    {
     "name": "stdout",
     "output_type": "stream",
     "text": [
      "executing cell on test_cpu...\n",
      "waiting for cell to finish on test_cpu...\n",
      "cell finished on test_cpu.\n"
     ]
    }
   ],
   "source": [
    "from pathlib import Path\n",
    "import matplotlib.pyplot as plt\n",
    "import postgkyl as pg\n",
    "\n",
    "run = Path.cwd()\n",
    "\n",
    "def getModelType():\n",
    "    frame = 0\n",
    "    models = [\"5m\", \"10m\"]\n",
    "    for model in models:\n",
    "        path = Path(f\"{data_path}/rt_{model}_gem_gzero-field_{frame}.gkyl\")\n",
    "        if path.is_file():\n",
    "            return model\n",
    "    error = \"Failed to find input file \" + str(path)\n",
    "    assert False, error"
   ]
  },
  {
   "cell_type": "code",
   "execution_count": 4,
   "id": "9723cde9-abad-4d95-85cb-c618b383ae48",
   "metadata": {},
   "outputs": [
    {
     "name": "stdout",
     "output_type": "stream",
     "text": [
      "executing cell on test_cpu...\n",
      "waiting for cell to finish on test_cpu...\n",
      "/home/gateway-user/cybershuttle/dataset/Plasma-Vlab-gemReconnection/rt_5m_gem_gzero-field_0.gkyl\n",
      "cell finished on test_cpu.\n"
     ]
    }
   ],
   "source": [
    "frame = 0\n",
    "model = getModelType()\n",
    "filename = run / f\"{data_path}/rt_{model}_gem_gzero-field_{frame}.gkyl\"\n",
    "filename = str(filename)\n",
    "print(filename)"
   ]
  },
  {
   "cell_type": "code",
   "execution_count": 5,
   "id": "bcc09aec-5821-4e58-ad38-3765afc28fc3",
   "metadata": {},
   "outputs": [
    {
     "name": "stdout",
     "output_type": "stream",
     "text": [
      "executing cell on test_cpu...\n",
      "waiting for cell to finish on test_cpu...\n"
     ]
    },
    {
     "data": {
      "image/png": "[encoded data removed]",
      "text/plain": [
       "<Figure size 640x480 with 2 Axes>"
      ]
     },
     "metadata": {},
     "output_type": "display_data"
    },
    {
     "name": "stdout",
     "output_type": "stream",
     "text": [
      "cell finished on test_cpu.\n"
     ]
    }
   ],
   "source": [
    "gdata = pg.GData(filename)\n",
    "\n",
    "vals = gdata.get_values() # cell-center values, shape is Ny * Nx * Ncomponents\n",
    "grid = gdata.get_grid() # cell corner coordinates\n",
    "ndim = gdata.get_num_dims() # number of spatial dimensions\n",
    "\n",
    "assert len(vals.shape) == ndim+1 and len(grid) == ndim\n",
    "\n",
    "icomp = 3\n",
    "compName = r'$E_z^2$'\n",
    "fileName = \"E_z.png\"\n",
    "\n",
    "my_vals = vals[..., icomp]\n",
    "x, y = grid\n",
    "\n",
    "fig, ax = plt.subplots()\n",
    "\n",
    "im = ax.pcolormesh(x, y, my_vals.T)\n",
    "fig.colorbar(im, ax=ax)\n",
    "\n",
    "ax.set_xlabel('x')\n",
    "ax.set_ylabel('y')\n",
    "ax.set_title(compName)\n",
    "ax.set_aspect(1)\n",
    "\n",
    "plt.savefig(fileName)"
   ]
  },
  {
   "cell_type": "markdown",
   "id": "eee0d482-0d84-41d0-bf6d-820ac7c3bbf3",
   "metadata": {},
   "source": [
    "#### To Stop the Agent Run"
   ]
  },
  {
   "cell_type": "code",
   "execution_count": 6,
   "id": "2a5581f6-e963-4e2b-bd6e-8a122e906ca6",
   "metadata": {},
   "outputs": [
    {
     "name": "stdout",
     "output_type": "stream",
     "text": [
      "Terminated runtime=test_cpu. state={'experimentId': 'CS_Agent_31bf6a35-69ca-474a-9126-843c2e7946f9', 'terminated': True}\n",
      "Switched to runtime=local.\n"
     ]
    }
   ],
   "source": [
    "%stop_runtime test_cpu\n",
    "%switch_runtime local"
   ]
  }
 ],
 "metadata": {
  "kernelspec": {
   "display_name": "Python 3 (ipykernel)",
   "language": "python",
   "name": "python3"
  },
  "language_info": {
   "codemirror_mode": {
    "name": "ipython",
    "version": 3
   },
   "file_extension": ".py",
   "mimetype": "text/x-python",
   "name": "python",
   "nbconvert_exporter": "python",
   "pygments_lexer": "ipython3",
   "version": "3.11.6"
  }
 },
 "nbformat": 4,
 "nbformat_minor": 5
}
